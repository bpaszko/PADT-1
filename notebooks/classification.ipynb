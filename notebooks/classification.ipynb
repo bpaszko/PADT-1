{
 "cells": [
  {
   "cell_type": "code",
   "execution_count": 1,
   "metadata": {},
   "outputs": [],
   "source": [
    "%matplotlib inline"
   ]
  },
  {
   "cell_type": "code",
   "execution_count": 30,
   "metadata": {},
   "outputs": [],
   "source": [
    "import numpy as np\n",
    "import pandas as pd\n",
    "import matplotlib.pyplot as plt\n",
    "\n",
    "from sklearn.model_selection import train_test_split\n",
    "from sklearn.ensemble import RandomForestClassifier\n",
    "from sklearn.metrics import accuracy_score, confusion_matrix\n",
    "from xgboost.sklearn import XGBClassifier\n",
    "\n",
    "import os\n",
    "import sys\n",
    "# sys.path.append(os.path.join(os.getcwd(), '..'))"
   ]
  },
  {
   "cell_type": "code",
   "execution_count": 3,
   "metadata": {},
   "outputs": [],
   "source": [
    "seed = 12"
   ]
  },
  {
   "cell_type": "code",
   "execution_count": 28,
   "metadata": {},
   "outputs": [],
   "source": [
    "def plot_confusion_matrix(y_true, y_pred, classes, title, cmap=plt.cm.Blues):\n",
    "    \"\"\"\n",
    "    This function prints and plots the confusion matrix.\n",
    "    Normalization can be applied by setting `normalize=True`.\n",
    "    \"\"\"\n",
    "\n",
    "    cm = confusion_matrix(y_true, y_pred, labels=classes)\n",
    "    \n",
    "    fig, ax = plt.subplots(figsize=(20, 17))\n",
    "    im = ax.imshow(cm, interpolation='nearest', cmap=cmap)\n",
    "    ax.figure.colorbar(im, ax=ax)\n",
    "    ax.set(xticks=np.arange(cm.shape[1]),\n",
    "           yticks=np.arange(cm.shape[0]),\n",
    "           xticklabels=classes, yticklabels=classes,\n",
    "           title=title,\n",
    "           ylabel='True label',\n",
    "           xlabel='Predicted label')\n",
    "\n",
    "    plt.setp(ax.get_xticklabels(), rotation=45, ha=\"right\",\n",
    "             rotation_mode=\"anchor\")\n",
    "    ax.set_ylim(len(classes)-0.5, -0.5)\n",
    "    \n",
    "    fmt = 'd'\n",
    "    thresh = cm.max() / 2.\n",
    "    for i in range(cm.shape[0]):\n",
    "        for j in range(cm.shape[1]):\n",
    "            ax.text(j, i, format(cm[i, j], fmt),\n",
    "                    ha=\"center\", va=\"center\",\n",
    "                    color=\"white\" if cm[i, j] > thresh else \"black\")\n",
    "    fig.tight_layout()\n",
    "    return ax\n",
    "\n",
    "\n",
    "def load_data(embeddings_dir):\n",
    "    y_file, X_file = os.path.join(embeddings_dir, 'metadata.tsv'), os.path.join(embeddings_dir, 'tensors.tsv')\n",
    "    y = pd.read_csv(y_file, sep=':', encoding='utf-8', header=None).rename(columns={0:'job', 1:'name'})\n",
    "    X = pd.read_csv(X_file, sep='\\t', encoding='utf-8', header=None)\n",
    "    return X, y"
   ]
  },
  {
   "cell_type": "code",
   "execution_count": 5,
   "metadata": {},
   "outputs": [],
   "source": [
    "X, y = load_data('../projections/elmo_corpus_sentence/00000/default/')\n",
    "X_train, X_test, y_train, y_test = train_test_split(X, y, test_size=0.25, random_state=seed)"
   ]
  },
  {
   "cell_type": "code",
   "execution_count": 6,
   "metadata": {},
   "outputs": [
    {
     "data": {
      "text/html": [
       "<div>\n",
       "<style scoped>\n",
       "    .dataframe tbody tr th:only-of-type {\n",
       "        vertical-align: middle;\n",
       "    }\n",
       "\n",
       "    .dataframe tbody tr th {\n",
       "        vertical-align: top;\n",
       "    }\n",
       "\n",
       "    .dataframe thead th {\n",
       "        text-align: right;\n",
       "    }\n",
       "</style>\n",
       "<table border=\"1\" class=\"dataframe\">\n",
       "  <thead>\n",
       "    <tr style=\"text-align: right;\">\n",
       "      <th></th>\n",
       "      <th>job</th>\n",
       "      <th>name</th>\n",
       "    </tr>\n",
       "  </thead>\n",
       "  <tbody>\n",
       "    <tr>\n",
       "      <th>597</th>\n",
       "      <td>muzycy</td>\n",
       "      <td>Christian Zacharias</td>\n",
       "    </tr>\n",
       "    <tr>\n",
       "      <th>441</th>\n",
       "      <td>poeci</td>\n",
       "      <td>Justyna Bargielska</td>\n",
       "    </tr>\n",
       "    <tr>\n",
       "      <th>216</th>\n",
       "      <td>prawnicy</td>\n",
       "      <td>Roman Jasiakiewicz</td>\n",
       "    </tr>\n",
       "    <tr>\n",
       "      <th>449</th>\n",
       "      <td>dziennikarze</td>\n",
       "      <td>Andrzej Poczobut</td>\n",
       "    </tr>\n",
       "    <tr>\n",
       "      <th>56</th>\n",
       "      <td>sportowcy</td>\n",
       "      <td>Stefan Żeromski</td>\n",
       "    </tr>\n",
       "  </tbody>\n",
       "</table>\n",
       "</div>"
      ],
      "text/plain": [
       "              job                  name\n",
       "597        muzycy   Christian Zacharias\n",
       "441         poeci    Justyna Bargielska\n",
       "216      prawnicy    Roman Jasiakiewicz\n",
       "449  dziennikarze      Andrzej Poczobut\n",
       "56      sportowcy       Stefan Żeromski"
      ]
     },
     "execution_count": 6,
     "metadata": {},
     "output_type": "execute_result"
    }
   ],
   "source": [
    "y_train.head()"
   ]
  },
  {
   "cell_type": "code",
   "execution_count": 7,
   "metadata": {},
   "outputs": [
    {
     "data": {
      "text/html": [
       "<div>\n",
       "<style scoped>\n",
       "    .dataframe tbody tr th:only-of-type {\n",
       "        vertical-align: middle;\n",
       "    }\n",
       "\n",
       "    .dataframe tbody tr th {\n",
       "        vertical-align: top;\n",
       "    }\n",
       "\n",
       "    .dataframe thead th {\n",
       "        text-align: right;\n",
       "    }\n",
       "</style>\n",
       "<table border=\"1\" class=\"dataframe\">\n",
       "  <thead>\n",
       "    <tr style=\"text-align: right;\">\n",
       "      <th></th>\n",
       "      <th>0</th>\n",
       "      <th>1</th>\n",
       "      <th>2</th>\n",
       "      <th>3</th>\n",
       "      <th>4</th>\n",
       "      <th>5</th>\n",
       "      <th>6</th>\n",
       "      <th>7</th>\n",
       "      <th>8</th>\n",
       "      <th>9</th>\n",
       "      <th>...</th>\n",
       "      <th>1014</th>\n",
       "      <th>1015</th>\n",
       "      <th>1016</th>\n",
       "      <th>1017</th>\n",
       "      <th>1018</th>\n",
       "      <th>1019</th>\n",
       "      <th>1020</th>\n",
       "      <th>1021</th>\n",
       "      <th>1022</th>\n",
       "      <th>1023</th>\n",
       "    </tr>\n",
       "  </thead>\n",
       "  <tbody>\n",
       "    <tr>\n",
       "      <th>597</th>\n",
       "      <td>-0.048381</td>\n",
       "      <td>-0.355912</td>\n",
       "      <td>0.613536</td>\n",
       "      <td>-0.004878</td>\n",
       "      <td>0.010968</td>\n",
       "      <td>-0.115779</td>\n",
       "      <td>0.419093</td>\n",
       "      <td>-0.644496</td>\n",
       "      <td>-0.550788</td>\n",
       "      <td>0.189552</td>\n",
       "      <td>...</td>\n",
       "      <td>-0.499104</td>\n",
       "      <td>0.473381</td>\n",
       "      <td>-0.360022</td>\n",
       "      <td>0.042702</td>\n",
       "      <td>0.074446</td>\n",
       "      <td>-0.594111</td>\n",
       "      <td>-0.231287</td>\n",
       "      <td>1.218542</td>\n",
       "      <td>-0.241716</td>\n",
       "      <td>-0.549961</td>\n",
       "    </tr>\n",
       "    <tr>\n",
       "      <th>441</th>\n",
       "      <td>0.311885</td>\n",
       "      <td>-0.016739</td>\n",
       "      <td>0.028832</td>\n",
       "      <td>-0.047952</td>\n",
       "      <td>-0.203623</td>\n",
       "      <td>0.556829</td>\n",
       "      <td>0.644996</td>\n",
       "      <td>-1.070214</td>\n",
       "      <td>-0.236442</td>\n",
       "      <td>0.409834</td>\n",
       "      <td>...</td>\n",
       "      <td>-0.492679</td>\n",
       "      <td>0.688189</td>\n",
       "      <td>-0.253620</td>\n",
       "      <td>-0.048724</td>\n",
       "      <td>-0.427597</td>\n",
       "      <td>-1.086891</td>\n",
       "      <td>-0.027440</td>\n",
       "      <td>1.173607</td>\n",
       "      <td>-0.026086</td>\n",
       "      <td>-0.817411</td>\n",
       "    </tr>\n",
       "    <tr>\n",
       "      <th>216</th>\n",
       "      <td>0.090499</td>\n",
       "      <td>-0.146783</td>\n",
       "      <td>0.185936</td>\n",
       "      <td>-0.143243</td>\n",
       "      <td>-0.019126</td>\n",
       "      <td>0.174426</td>\n",
       "      <td>0.731200</td>\n",
       "      <td>-0.314080</td>\n",
       "      <td>-0.451317</td>\n",
       "      <td>0.541313</td>\n",
       "      <td>...</td>\n",
       "      <td>-0.912254</td>\n",
       "      <td>0.894044</td>\n",
       "      <td>-0.279921</td>\n",
       "      <td>0.121955</td>\n",
       "      <td>-0.062777</td>\n",
       "      <td>-0.294018</td>\n",
       "      <td>0.611186</td>\n",
       "      <td>0.946440</td>\n",
       "      <td>-0.556574</td>\n",
       "      <td>-0.670000</td>\n",
       "    </tr>\n",
       "    <tr>\n",
       "      <th>449</th>\n",
       "      <td>0.199854</td>\n",
       "      <td>-0.041391</td>\n",
       "      <td>0.289144</td>\n",
       "      <td>-0.138243</td>\n",
       "      <td>-0.022552</td>\n",
       "      <td>0.435773</td>\n",
       "      <td>0.611636</td>\n",
       "      <td>-0.514663</td>\n",
       "      <td>-0.218814</td>\n",
       "      <td>0.406373</td>\n",
       "      <td>...</td>\n",
       "      <td>-0.651733</td>\n",
       "      <td>0.699543</td>\n",
       "      <td>-0.461065</td>\n",
       "      <td>-0.055890</td>\n",
       "      <td>0.074341</td>\n",
       "      <td>-0.475765</td>\n",
       "      <td>0.169236</td>\n",
       "      <td>0.835361</td>\n",
       "      <td>-0.579574</td>\n",
       "      <td>-0.622776</td>\n",
       "    </tr>\n",
       "    <tr>\n",
       "      <th>56</th>\n",
       "      <td>0.014216</td>\n",
       "      <td>-0.123449</td>\n",
       "      <td>0.390100</td>\n",
       "      <td>0.177011</td>\n",
       "      <td>-0.258306</td>\n",
       "      <td>0.236781</td>\n",
       "      <td>0.535896</td>\n",
       "      <td>-0.211681</td>\n",
       "      <td>-0.048557</td>\n",
       "      <td>0.367458</td>\n",
       "      <td>...</td>\n",
       "      <td>-0.427437</td>\n",
       "      <td>0.710641</td>\n",
       "      <td>-0.486745</td>\n",
       "      <td>0.271303</td>\n",
       "      <td>0.129309</td>\n",
       "      <td>-0.398488</td>\n",
       "      <td>0.087874</td>\n",
       "      <td>0.914504</td>\n",
       "      <td>-0.537695</td>\n",
       "      <td>-0.452681</td>\n",
       "    </tr>\n",
       "  </tbody>\n",
       "</table>\n",
       "<p>5 rows × 1024 columns</p>\n",
       "</div>"
      ],
      "text/plain": [
       "         0         1         2         3         4         5         6     \\\n",
       "597 -0.048381 -0.355912  0.613536 -0.004878  0.010968 -0.115779  0.419093   \n",
       "441  0.311885 -0.016739  0.028832 -0.047952 -0.203623  0.556829  0.644996   \n",
       "216  0.090499 -0.146783  0.185936 -0.143243 -0.019126  0.174426  0.731200   \n",
       "449  0.199854 -0.041391  0.289144 -0.138243 -0.022552  0.435773  0.611636   \n",
       "56   0.014216 -0.123449  0.390100  0.177011 -0.258306  0.236781  0.535896   \n",
       "\n",
       "         7         8         9     ...      1014      1015      1016  \\\n",
       "597 -0.644496 -0.550788  0.189552  ... -0.499104  0.473381 -0.360022   \n",
       "441 -1.070214 -0.236442  0.409834  ... -0.492679  0.688189 -0.253620   \n",
       "216 -0.314080 -0.451317  0.541313  ... -0.912254  0.894044 -0.279921   \n",
       "449 -0.514663 -0.218814  0.406373  ... -0.651733  0.699543 -0.461065   \n",
       "56  -0.211681 -0.048557  0.367458  ... -0.427437  0.710641 -0.486745   \n",
       "\n",
       "         1017      1018      1019      1020      1021      1022      1023  \n",
       "597  0.042702  0.074446 -0.594111 -0.231287  1.218542 -0.241716 -0.549961  \n",
       "441 -0.048724 -0.427597 -1.086891 -0.027440  1.173607 -0.026086 -0.817411  \n",
       "216  0.121955 -0.062777 -0.294018  0.611186  0.946440 -0.556574 -0.670000  \n",
       "449 -0.055890  0.074341 -0.475765  0.169236  0.835361 -0.579574 -0.622776  \n",
       "56   0.271303  0.129309 -0.398488  0.087874  0.914504 -0.537695 -0.452681  \n",
       "\n",
       "[5 rows x 1024 columns]"
      ]
     },
     "execution_count": 7,
     "metadata": {},
     "output_type": "execute_result"
    }
   ],
   "source": [
    "X_train.head()"
   ]
  },
  {
   "cell_type": "code",
   "execution_count": 8,
   "metadata": {},
   "outputs": [],
   "source": [
    "names_train, names_test = y_train['name'], y_test['name']\n",
    "y_train, y_test = y_train['job'], y_test['job']"
   ]
  },
  {
   "cell_type": "code",
   "execution_count": 35,
   "metadata": {},
   "outputs": [
    {
     "data": {
      "text/plain": [
       "RandomForestClassifier(bootstrap=True, class_weight=None, criterion='gini',\n",
       "                       max_depth=None, max_features='auto', max_leaf_nodes=None,\n",
       "                       min_impurity_decrease=0.0, min_impurity_split=None,\n",
       "                       min_samples_leaf=1, min_samples_split=2,\n",
       "                       min_weight_fraction_leaf=0.0, n_estimators=300,\n",
       "                       n_jobs=-1, oob_score=False, random_state=12, verbose=0,\n",
       "                       warm_start=False)"
      ]
     },
     "execution_count": 35,
     "metadata": {},
     "output_type": "execute_result"
    }
   ],
   "source": [
    "model = RandomForestClassifier(n_estimators=300, n_jobs=-1, random_state=seed)\n",
    "# model = XGBClassifier(learning_rate=0.01, n_estimators=300, n_jobs=-1, random_state=seed)\n",
    "model.fit(X_train, y_train)"
   ]
  },
  {
   "cell_type": "code",
   "execution_count": 36,
   "metadata": {},
   "outputs": [
    {
     "name": "stdout",
     "output_type": "stream",
     "text": [
      "Accuracy: 49.23%\n"
     ]
    }
   ],
   "source": [
    "preds = model.predict(X_test)\n",
    "accuracy = accuracy_score(y_test, preds)\n",
    "print(f'Accuracy: {round(accuracy*100, 2)}%')"
   ]
  },
  {
   "cell_type": "code",
   "execution_count": 37,
   "metadata": {},
   "outputs": [
    {
     "data": {
      "text/plain": [
       "<matplotlib.axes._subplots.AxesSubplot at 0x7f2f35929c90>"
      ]
     },
     "execution_count": 37,
     "metadata": {},
     "output_type": "execute_result"
    },
    {
     "data": {
      "image/png": "[encoded data removed]",
      "text/plain": [
       "<Figure size 1440x1224 with 2 Axes>"
      ]
     },
     "metadata": {
      "needs_background": "light"
     },
     "output_type": "display_data"
    }
   ],
   "source": [
    "classes = y_test.unique()\n",
    "plot_confusion_matrix(y_test, preds, classes, 'Confusion Matrix')"
   ]
  },
  {
   "cell_type": "code",
   "execution_count": null,
   "metadata": {},
   "outputs": [],
   "source": []
  }
 ],
 "metadata": {
  "kernelspec": {
   "display_name": "myenv",
   "language": "python",
   "name": "myenv"
  },
  "language_info": {
   "codemirror_mode": {
    "name": "ipython",
    "version": 3
   },
   "file_extension": ".py",
   "mimetype": "text/x-python",
   "name": "python",
   "nbconvert_exporter": "python",
   "pygments_lexer": "ipython3",
   "version": "3.7.4"
  }
 },
 "nbformat": 4,
 "nbformat_minor": 4
}
