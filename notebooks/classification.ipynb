{
 "cells": [
  {
   "cell_type": "code",
   "execution_count": 1,
   "metadata": {},
   "outputs": [],
   "source": [
    "%matplotlib inline"
   ]
  },
  {
   "cell_type": "code",
   "execution_count": 2,
   "metadata": {},
   "outputs": [],
   "source": [
    "import numpy as np\n",
    "import pandas as pd\n",
    "import matplotlib.pyplot as plt\n",
    "\n",
    "from sklearn.model_selection import train_test_split\n",
    "from sklearn.ensemble import RandomForestClassifier\n",
    "from sklearn.metrics import accuracy_score, confusion_matrix\n",
    "from sklearn.preprocessing import LabelEncoder\n",
    "from xgboost.sklearn import XGBClassifier\n",
    "\n",
    "import os\n",
    "import sys\n",
    "# sys.path.append(os.path.join(os.getcwd(), '..'))\n",
    "sys.path.append('/usr/lib/python3.7/site-packages/')\n",
    "\n",
    "from tensorflow.keras.models import Sequential\n",
    "from tensorflow.keras.layers import Dense\n",
    "from tensorflow.keras.utils import to_categorical\n"
   ]
  },
  {
   "cell_type": "code",
   "execution_count": 3,
   "metadata": {},
   "outputs": [],
   "source": [
    "seed = 12"
   ]
  },
  {
   "cell_type": "code",
   "execution_count": 4,
   "metadata": {},
   "outputs": [],
   "source": [
    "def plot_confusion_matrix(y_true, y_pred, classes, title, cmap=plt.cm.Blues):\n",
    "    \"\"\"\n",
    "    This function prints and plots the confusion matrix.\n",
    "    Normalization can be applied by setting `normalize=True`.\n",
    "    \"\"\"\n",
    "\n",
    "    cm = confusion_matrix(y_true, y_pred, labels=classes)\n",
    "    \n",
    "    fig, ax = plt.subplots(figsize=(20, 17))\n",
    "    im = ax.imshow(cm, interpolation='nearest', cmap=cmap)\n",
    "    ax.figure.colorbar(im, ax=ax)\n",
    "    ax.set(xticks=np.arange(cm.shape[1]),\n",
    "           yticks=np.arange(cm.shape[0]),\n",
    "           xticklabels=classes, yticklabels=classes,\n",
    "           title=title,\n",
    "           ylabel='True label',\n",
    "           xlabel='Predicted label')\n",
    "\n",
    "    plt.setp(ax.get_xticklabels(), rotation=45, ha=\"right\",\n",
    "             rotation_mode=\"anchor\")\n",
    "    ax.set_ylim(len(classes)-0.5, -0.5)\n",
    "    \n",
    "    fmt = 'd'\n",
    "    thresh = cm.max() / 2.\n",
    "    for i in range(cm.shape[0]):\n",
    "        for j in range(cm.shape[1]):\n",
    "            ax.text(j, i, format(cm[i, j], fmt),\n",
    "                    ha=\"center\", va=\"center\",\n",
    "                    color=\"white\" if cm[i, j] > thresh else \"black\")\n",
    "    fig.tight_layout()\n",
    "    return ax\n",
    "\n",
    "\n",
    "def find_data(data_dir):\n",
    "    tensors_path, labels_path = '', ''\n",
    "    for dirpath, dirnames, filenames in os.walk(data_dir):\n",
    "        for f in filenames:\n",
    "            if f == 'metadata.tsv':\n",
    "                labels_path = os.path.join(dirpath, f)\n",
    "            elif f == 'tensors.tsv':\n",
    "                tensors_path = os.path.join(dirpath, f)\n",
    "    if not (tensors_path and labels_path):\n",
    "        raise RuntimeError(f'Could not find required files!')\n",
    "    return tensors_path, labels_path\n",
    "    \n",
    "\n",
    "def load_part_data(data_dir):\n",
    "    X_path, y_path = find_data(data_dir)\n",
    "    y = pd.read_csv(y_path, sep=':', encoding='utf-8', header=None).rename(columns={0:'job', 1:'name'})\n",
    "    X = pd.read_csv(X_path, sep='\\t', encoding='utf-8', header=None)\n",
    "    return X, y\n",
    "\n",
    "\n",
    "def load_data(data_dir, validation=True):\n",
    "    X_train, y_train = load_part_data(os.path.join(data_dir, 'train'))\n",
    "    X_valid, y_valid = load_part_data(os.path.join(data_dir, 'validation'))\n",
    "    X_test, y_test = load_part_data(os.path.join(data_dir, 'test'))\n",
    "    if not validation: \n",
    "        X_train = X_train.append(X_valid, ignore_index=True)\n",
    "        y_train = y_train.append(y_valid, ignore_index=True)\n",
    "        return X_train, y_train, X_test, y_test\n",
    "    \n",
    "    return X_train, y_train, X_test, y_test, X_valid, y_valid"
   ]
  },
  {
   "cell_type": "code",
   "execution_count": 5,
   "metadata": {},
   "outputs": [
    {
     "data": {
      "text/plain": [
       "(865, 865, 92, 92)"
      ]
     },
     "execution_count": 5,
     "metadata": {},
     "output_type": "execute_result"
    }
   ],
   "source": [
    "X_train, y_train, X_test, y_test = load_data('../projections/onet/elmo_corpus_sentence', validation=False)\n",
    "len(X_train), len(y_train), len(X_test), len(y_test)"
   ]
  },
  {
   "cell_type": "code",
   "execution_count": 6,
   "metadata": {},
   "outputs": [
    {
     "data": {
      "text/html": [
       "<div>\n",
       "<style scoped>\n",
       "    .dataframe tbody tr th:only-of-type {\n",
       "        vertical-align: middle;\n",
       "    }\n",
       "\n",
       "    .dataframe tbody tr th {\n",
       "        vertical-align: top;\n",
       "    }\n",
       "\n",
       "    .dataframe thead th {\n",
       "        text-align: right;\n",
       "    }\n",
       "</style>\n",
       "<table border=\"1\" class=\"dataframe\">\n",
       "  <thead>\n",
       "    <tr style=\"text-align: right;\">\n",
       "      <th></th>\n",
       "      <th>job</th>\n",
       "      <th>name</th>\n",
       "    </tr>\n",
       "  </thead>\n",
       "  <tbody>\n",
       "    <tr>\n",
       "      <th>0</th>\n",
       "      <td>politycy</td>\n",
       "      <td>Zbigniew Bujak</td>\n",
       "    </tr>\n",
       "    <tr>\n",
       "      <th>1</th>\n",
       "      <td>politycy</td>\n",
       "      <td>Władysław Frasyniuk</td>\n",
       "    </tr>\n",
       "    <tr>\n",
       "      <th>2</th>\n",
       "      <td>politycy</td>\n",
       "      <td>Barbara Labuda</td>\n",
       "    </tr>\n",
       "    <tr>\n",
       "      <th>3</th>\n",
       "      <td>politycy</td>\n",
       "      <td>Józef Pinior</td>\n",
       "    </tr>\n",
       "    <tr>\n",
       "      <th>4</th>\n",
       "      <td>politycy</td>\n",
       "      <td>Donald Tusk</td>\n",
       "    </tr>\n",
       "  </tbody>\n",
       "</table>\n",
       "</div>"
      ],
      "text/plain": [
       "        job                  name\n",
       "0  politycy        Zbigniew Bujak\n",
       "1  politycy   Władysław Frasyniuk\n",
       "2  politycy        Barbara Labuda\n",
       "3  politycy          Józef Pinior\n",
       "4  politycy           Donald Tusk"
      ]
     },
     "execution_count": 6,
     "metadata": {},
     "output_type": "execute_result"
    }
   ],
   "source": [
    "y_train.head()"
   ]
  },
  {
   "cell_type": "code",
   "execution_count": 7,
   "metadata": {},
   "outputs": [
    {
     "data": {
      "text/html": [
       "<div>\n",
       "<style scoped>\n",
       "    .dataframe tbody tr th:only-of-type {\n",
       "        vertical-align: middle;\n",
       "    }\n",
       "\n",
       "    .dataframe tbody tr th {\n",
       "        vertical-align: top;\n",
       "    }\n",
       "\n",
       "    .dataframe thead th {\n",
       "        text-align: right;\n",
       "    }\n",
       "</style>\n",
       "<table border=\"1\" class=\"dataframe\">\n",
       "  <thead>\n",
       "    <tr style=\"text-align: right;\">\n",
       "      <th></th>\n",
       "      <th>0</th>\n",
       "      <th>1</th>\n",
       "      <th>2</th>\n",
       "      <th>3</th>\n",
       "      <th>4</th>\n",
       "      <th>5</th>\n",
       "      <th>6</th>\n",
       "      <th>7</th>\n",
       "      <th>8</th>\n",
       "      <th>9</th>\n",
       "      <th>...</th>\n",
       "      <th>1014</th>\n",
       "      <th>1015</th>\n",
       "      <th>1016</th>\n",
       "      <th>1017</th>\n",
       "      <th>1018</th>\n",
       "      <th>1019</th>\n",
       "      <th>1020</th>\n",
       "      <th>1021</th>\n",
       "      <th>1022</th>\n",
       "      <th>1023</th>\n",
       "    </tr>\n",
       "  </thead>\n",
       "  <tbody>\n",
       "    <tr>\n",
       "      <th>0</th>\n",
       "      <td>0.262281</td>\n",
       "      <td>-0.096596</td>\n",
       "      <td>0.000751</td>\n",
       "      <td>-0.242584</td>\n",
       "      <td>-0.090447</td>\n",
       "      <td>0.496533</td>\n",
       "      <td>0.612335</td>\n",
       "      <td>-0.666502</td>\n",
       "      <td>-0.437810</td>\n",
       "      <td>0.675194</td>\n",
       "      <td>...</td>\n",
       "      <td>-0.564428</td>\n",
       "      <td>0.714241</td>\n",
       "      <td>-0.399184</td>\n",
       "      <td>-0.440712</td>\n",
       "      <td>0.156842</td>\n",
       "      <td>-0.366483</td>\n",
       "      <td>0.282918</td>\n",
       "      <td>0.952838</td>\n",
       "      <td>-0.021817</td>\n",
       "      <td>-0.877401</td>\n",
       "    </tr>\n",
       "    <tr>\n",
       "      <th>1</th>\n",
       "      <td>0.200376</td>\n",
       "      <td>-0.138684</td>\n",
       "      <td>0.055646</td>\n",
       "      <td>-0.210187</td>\n",
       "      <td>-0.073032</td>\n",
       "      <td>0.400059</td>\n",
       "      <td>0.561931</td>\n",
       "      <td>-0.646101</td>\n",
       "      <td>-0.475706</td>\n",
       "      <td>0.615342</td>\n",
       "      <td>...</td>\n",
       "      <td>-0.574303</td>\n",
       "      <td>0.779437</td>\n",
       "      <td>-0.440973</td>\n",
       "      <td>-0.333877</td>\n",
       "      <td>0.025872</td>\n",
       "      <td>-0.404412</td>\n",
       "      <td>0.157701</td>\n",
       "      <td>0.943590</td>\n",
       "      <td>-0.085179</td>\n",
       "      <td>-0.858896</td>\n",
       "    </tr>\n",
       "    <tr>\n",
       "      <th>2</th>\n",
       "      <td>0.282218</td>\n",
       "      <td>-0.109399</td>\n",
       "      <td>0.008973</td>\n",
       "      <td>-0.229405</td>\n",
       "      <td>-0.062581</td>\n",
       "      <td>0.444397</td>\n",
       "      <td>0.645155</td>\n",
       "      <td>-0.634261</td>\n",
       "      <td>-0.476765</td>\n",
       "      <td>0.721822</td>\n",
       "      <td>...</td>\n",
       "      <td>-0.411739</td>\n",
       "      <td>0.696788</td>\n",
       "      <td>-0.355700</td>\n",
       "      <td>-0.400000</td>\n",
       "      <td>0.129261</td>\n",
       "      <td>-0.321320</td>\n",
       "      <td>0.138312</td>\n",
       "      <td>0.970497</td>\n",
       "      <td>-0.053732</td>\n",
       "      <td>-0.954584</td>\n",
       "    </tr>\n",
       "    <tr>\n",
       "      <th>3</th>\n",
       "      <td>0.218149</td>\n",
       "      <td>-0.373843</td>\n",
       "      <td>0.502904</td>\n",
       "      <td>-0.604541</td>\n",
       "      <td>-0.083107</td>\n",
       "      <td>0.172496</td>\n",
       "      <td>0.712170</td>\n",
       "      <td>-0.566690</td>\n",
       "      <td>-0.543743</td>\n",
       "      <td>0.427022</td>\n",
       "      <td>...</td>\n",
       "      <td>-0.735048</td>\n",
       "      <td>0.856665</td>\n",
       "      <td>-0.472014</td>\n",
       "      <td>-0.049975</td>\n",
       "      <td>0.163640</td>\n",
       "      <td>-0.318494</td>\n",
       "      <td>-0.672726</td>\n",
       "      <td>1.319686</td>\n",
       "      <td>-0.841021</td>\n",
       "      <td>-0.625741</td>\n",
       "    </tr>\n",
       "    <tr>\n",
       "      <th>4</th>\n",
       "      <td>0.033528</td>\n",
       "      <td>-0.217472</td>\n",
       "      <td>0.365095</td>\n",
       "      <td>-0.154890</td>\n",
       "      <td>-0.025706</td>\n",
       "      <td>0.222634</td>\n",
       "      <td>0.554974</td>\n",
       "      <td>-0.417413</td>\n",
       "      <td>-0.400015</td>\n",
       "      <td>0.456431</td>\n",
       "      <td>...</td>\n",
       "      <td>-0.667173</td>\n",
       "      <td>0.597452</td>\n",
       "      <td>-0.470039</td>\n",
       "      <td>-0.131182</td>\n",
       "      <td>0.124743</td>\n",
       "      <td>-0.303291</td>\n",
       "      <td>0.315243</td>\n",
       "      <td>0.809132</td>\n",
       "      <td>-0.483802</td>\n",
       "      <td>-0.629464</td>\n",
       "    </tr>\n",
       "  </tbody>\n",
       "</table>\n",
       "<p>5 rows × 1024 columns</p>\n",
       "</div>"
      ],
      "text/plain": [
       "       0         1         2         3         4         5         6     \\\n",
       "0  0.262281 -0.096596  0.000751 -0.242584 -0.090447  0.496533  0.612335   \n",
       "1  0.200376 -0.138684  0.055646 -0.210187 -0.073032  0.400059  0.561931   \n",
       "2  0.282218 -0.109399  0.008973 -0.229405 -0.062581  0.444397  0.645155   \n",
       "3  0.218149 -0.373843  0.502904 -0.604541 -0.083107  0.172496  0.712170   \n",
       "4  0.033528 -0.217472  0.365095 -0.154890 -0.025706  0.222634  0.554974   \n",
       "\n",
       "       7         8         9     ...      1014      1015      1016      1017  \\\n",
       "0 -0.666502 -0.437810  0.675194  ... -0.564428  0.714241 -0.399184 -0.440712   \n",
       "1 -0.646101 -0.475706  0.615342  ... -0.574303  0.779437 -0.440973 -0.333877   \n",
       "2 -0.634261 -0.476765  0.721822  ... -0.411739  0.696788 -0.355700 -0.400000   \n",
       "3 -0.566690 -0.543743  0.427022  ... -0.735048  0.856665 -0.472014 -0.049975   \n",
       "4 -0.417413 -0.400015  0.456431  ... -0.667173  0.597452 -0.470039 -0.131182   \n",
       "\n",
       "       1018      1019      1020      1021      1022      1023  \n",
       "0  0.156842 -0.366483  0.282918  0.952838 -0.021817 -0.877401  \n",
       "1  0.025872 -0.404412  0.157701  0.943590 -0.085179 -0.858896  \n",
       "2  0.129261 -0.321320  0.138312  0.970497 -0.053732 -0.954584  \n",
       "3  0.163640 -0.318494 -0.672726  1.319686 -0.841021 -0.625741  \n",
       "4  0.124743 -0.303291  0.315243  0.809132 -0.483802 -0.629464  \n",
       "\n",
       "[5 rows x 1024 columns]"
      ]
     },
     "execution_count": 7,
     "metadata": {},
     "output_type": "execute_result"
    }
   ],
   "source": [
    "X_train.head()"
   ]
  },
  {
   "cell_type": "code",
   "execution_count": 8,
   "metadata": {},
   "outputs": [],
   "source": [
    "names_train, names_test = y_train['name'], y_test['name']\n",
    "y_train, y_test = y_train['job'], y_test['job']"
   ]
  },
  {
   "cell_type": "code",
   "execution_count": 9,
   "metadata": {},
   "outputs": [
    {
     "data": {
      "text/plain": [
       "RandomForestClassifier(bootstrap=True, class_weight=None, criterion='gini',\n",
       "                       max_depth=None, max_features='auto', max_leaf_nodes=None,\n",
       "                       min_impurity_decrease=0.0, min_impurity_split=None,\n",
       "                       min_samples_leaf=1, min_samples_split=2,\n",
       "                       min_weight_fraction_leaf=0.0, n_estimators=300,\n",
       "                       n_jobs=-1, oob_score=False, random_state=12, verbose=0,\n",
       "                       warm_start=False)"
      ]
     },
     "execution_count": 9,
     "metadata": {},
     "output_type": "execute_result"
    }
   ],
   "source": [
    "model = RandomForestClassifier(n_estimators=300, n_jobs=-1, random_state=seed)\n",
    "# model = XGBClassifier(learning_rate=0.01, n_estimators=300, n_jobs=-1, random_state=seed)\n",
    "model.fit(X_train, y_train)"
   ]
  },
  {
   "cell_type": "code",
   "execution_count": 10,
   "metadata": {},
   "outputs": [
    {
     "name": "stdout",
     "output_type": "stream",
     "text": [
      "Accuracy: 53.26%\n"
     ]
    }
   ],
   "source": [
    "preds = model.predict(X_test)\n",
    "accuracy = accuracy_score(y_test, preds)\n",
    "print(f'Accuracy: {round(accuracy*100, 2)}%')"
   ]
  },
  {
   "cell_type": "code",
   "execution_count": 11,
   "metadata": {},
   "outputs": [
    {
     "data": {
      "text/plain": [
       "<matplotlib.axes._subplots.AxesSubplot at 0x7f4fa2037d50>"
      ]
     },
     "execution_count": 11,
     "metadata": {},
     "output_type": "execute_result"
    },
    {
     "data": {
      "image/png": "[encoded data removed]",
      "text/plain": [
       "<Figure size 1440x1224 with 2 Axes>"
      ]
     },
     "metadata": {
      "needs_background": "light"
     },
     "output_type": "display_data"
    }
   ],
   "source": [
    "classes = y_test.unique()\n",
    "plot_confusion_matrix(y_test, preds, classes, 'Confusion Matrix')"
   ]
  },
  {
   "cell_type": "code",
   "execution_count": 12,
   "metadata": {},
   "outputs": [
    {
     "data": {
      "text/plain": [
       "XGBClassifier(base_score=0.5, booster='gbtree', colsample_bylevel=1,\n",
       "              colsample_bynode=1, colsample_bytree=1, gamma=0,\n",
       "              learning_rate=0.01, max_delta_step=0, max_depth=3,\n",
       "              min_child_weight=1, missing=None, n_estimators=300, n_jobs=-1,\n",
       "              nthread=None, objective='multi:softprob', random_state=12,\n",
       "              reg_alpha=0, reg_lambda=1, scale_pos_weight=1, seed=None,\n",
       "              silent=None, subsample=1, verbosity=1)"
      ]
     },
     "execution_count": 12,
     "metadata": {},
     "output_type": "execute_result"
    }
   ],
   "source": [
    "model = XGBClassifier(learning_rate=0.01, n_estimators=300, n_jobs=-1, random_state=seed)\n",
    "model.fit(X_train, y_train)"
   ]
  },
  {
   "cell_type": "code",
   "execution_count": 13,
   "metadata": {},
   "outputs": [
    {
     "name": "stdout",
     "output_type": "stream",
     "text": [
      "Accuracy: 52.17%\n"
     ]
    }
   ],
   "source": [
    "preds = model.predict(X_test)\n",
    "accuracy = accuracy_score(y_test, preds)\n",
    "print(f'Accuracy: {round(accuracy*100, 2)}%')"
   ]
  },
  {
   "cell_type": "code",
   "execution_count": 14,
   "metadata": {},
   "outputs": [
    {
     "data": {
      "text/plain": [
       "<matplotlib.axes._subplots.AxesSubplot at 0x7f4faf69e150>"
      ]
     },
     "execution_count": 14,
     "metadata": {},
     "output_type": "execute_result"
    },
    {
     "data": {
      "image/png": "[encoded data removed]",
      "text/plain": [
       "<Figure size 1440x1224 with 2 Axes>"
      ]
     },
     "metadata": {
      "needs_background": "light"
     },
     "output_type": "display_data"
    }
   ],
   "source": [
    "classes = y_test.unique()\n",
    "plot_confusion_matrix(y_test, preds, classes, 'Confusion Matrix')"
   ]
  },
  {
   "cell_type": "code",
   "execution_count": 15,
   "metadata": {},
   "outputs": [
    {
     "data": {
      "text/plain": [
       "(774, 774, 92, 92, 91, 91)"
      ]
     },
     "execution_count": 15,
     "metadata": {},
     "output_type": "execute_result"
    }
   ],
   "source": [
    "X_train, y_train, X_test, y_test, X_valid, y_valid = load_data('../projections/onet/elmo_corpus_sentence', validation=True)\n",
    "len(X_train), len(y_train), len(X_test), len(y_test), len(X_valid), len(y_valid)"
   ]
  },
  {
   "cell_type": "code",
   "execution_count": 16,
   "metadata": {},
   "outputs": [],
   "source": [
    "names_train, names_test, names_valid = y_train['name'], y_test['name'], y_valid['name']\n",
    "y_train, y_test, y_valid = y_train['job'], y_test['job'], y_valid['job']"
   ]
  },
  {
   "cell_type": "code",
   "execution_count": 17,
   "metadata": {},
   "outputs": [],
   "source": [
    "classes = y_train.unique()\n",
    "\n",
    "model = Sequential([\n",
    "    Dense(128, activation='relu', input_shape=(len(X_train.columns),)),\n",
    "    Dense(128, activation='relu'),\n",
    "    Dense(len(classes), activation='softmax'),\n",
    "])\n",
    "\n",
    "model.compile(\n",
    "    optimizer='adam',\n",
    "    loss='categorical_crossentropy',\n",
    "    metrics=['accuracy'],\n",
    ")"
   ]
  },
  {
   "cell_type": "code",
   "execution_count": 18,
   "metadata": {},
   "outputs": [
    {
     "name": "stdout",
     "output_type": "stream",
     "text": [
      "Train on 774 samples, validate on 91 samples\n",
      "Epoch 1/20\n",
      "774/774 [==============================] - 1s 1ms/sample - loss: 1.9236 - accuracy: 0.4121\n",
      "Epoch 2/20\n",
      "774/774 [==============================] - 0s 44us/sample - loss: 1.6830 - accuracy: 0.4767\n",
      "Epoch 3/20\n",
      "774/774 [==============================] - 0s 50us/sample - loss: 1.5570 - accuracy: 0.5116\n",
      "Epoch 4/20\n",
      "774/774 [==============================] - 0s 45us/sample - loss: 1.4743 - accuracy: 0.5375\n",
      "Epoch 5/20\n",
      "774/774 [==============================] - 0s 185us/sample - loss: 1.4219 - accuracy: 0.5762 - val_loss: 1.5508 - val_accuracy: 0.5055\n",
      "Epoch 6/20\n",
      "774/774 [==============================] - 0s 52us/sample - loss: 1.3412 - accuracy: 0.5866\n",
      "Epoch 7/20\n",
      "774/774 [==============================] - 0s 55us/sample - loss: 1.2599 - accuracy: 0.6059\n",
      "Epoch 8/20\n",
      "774/774 [==============================] - 0s 59us/sample - loss: 1.1955 - accuracy: 0.6279\n",
      "Epoch 9/20\n",
      "774/774 [==============================] - 0s 55us/sample - loss: 1.1756 - accuracy: 0.6421\n",
      "Epoch 10/20\n",
      "774/774 [==============================] - 0s 67us/sample - loss: 1.1816 - accuracy: 0.6537 - val_loss: 1.5254 - val_accuracy: 0.5165\n",
      "Epoch 11/20\n",
      "774/774 [==============================] - 0s 54us/sample - loss: 1.0847 - accuracy: 0.6705\n",
      "Epoch 12/20\n",
      "774/774 [==============================] - 0s 52us/sample - loss: 1.0562 - accuracy: 0.6835\n",
      "Epoch 13/20\n",
      "774/774 [==============================] - 0s 50us/sample - loss: 1.0010 - accuracy: 0.7054\n",
      "Epoch 14/20\n",
      "774/774 [==============================] - 0s 55us/sample - loss: 0.9540 - accuracy: 0.7041\n",
      "Epoch 15/20\n",
      "774/774 [==============================] - 0s 76us/sample - loss: 0.8692 - accuracy: 0.7481 - val_loss: 1.5277 - val_accuracy: 0.5275\n",
      "Epoch 16/20\n",
      "774/774 [==============================] - 0s 44us/sample - loss: 0.8786 - accuracy: 0.7390\n",
      "Epoch 17/20\n",
      "774/774 [==============================] - 0s 60us/sample - loss: 0.8331 - accuracy: 0.7442\n",
      "Epoch 18/20\n",
      "774/774 [==============================] - 0s 56us/sample - loss: 0.7660 - accuracy: 0.7765\n",
      "Epoch 19/20\n",
      "774/774 [==============================] - 0s 63us/sample - loss: 0.7659 - accuracy: 0.7829\n",
      "Epoch 20/20\n",
      "774/774 [==============================] - 0s 72us/sample - loss: 0.7044 - accuracy: 0.8023 - val_loss: 1.6087 - val_accuracy: 0.5165\n"
     ]
    },
    {
     "data": {
      "text/plain": [
       "<tensorflow.python.keras.callbacks.History at 0x7f4fac29f710>"
      ]
     },
     "execution_count": 18,
     "metadata": {},
     "output_type": "execute_result"
    }
   ],
   "source": [
    "le = LabelEncoder()\n",
    "\n",
    "model.fit(\n",
    "    X_train.to_numpy(),\n",
    "    to_categorical(le.fit_transform(y_train)),\n",
    "    epochs=20,\n",
    "    batch_size=64,\n",
    "    validation_data=(X_valid.to_numpy(), to_categorical(le.transform(y_valid))),\n",
    "    validation_freq=5,\n",
    "    verbose=1\n",
    ")"
   ]
  },
  {
   "cell_type": "code",
   "execution_count": 19,
   "metadata": {},
   "outputs": [
    {
     "data": {
      "text/plain": [
       "[1.4877573459044746, 0.57608694]"
      ]
     },
     "execution_count": 19,
     "metadata": {},
     "output_type": "execute_result"
    }
   ],
   "source": [
    "model.evaluate(\n",
    "    X_test.to_numpy(),\n",
    "    to_categorical(le.transform(y_test)),\n",
    "    verbose=0\n",
    ")"
   ]
  }
 ],
 "metadata": {
  "kernelspec": {
   "display_name": "myenv",
   "language": "python",
   "name": "myenv"
  },
  "language_info": {
   "codemirror_mode": {
    "name": "ipython",
    "version": 3
   },
   "file_extension": ".py",
   "mimetype": "text/x-python",
   "name": "python",
   "nbconvert_exporter": "python",
   "pygments_lexer": "ipython3",
   "version": "3.7.4"
  }
 },
 "nbformat": 4,
 "nbformat_minor": 4
}
